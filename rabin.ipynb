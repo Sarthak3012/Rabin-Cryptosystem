{
 "cells": [
  {
   "cell_type": "code",
   "execution_count": 1,
   "metadata": {},
   "outputs": [],
   "source": [
    "import random\n",
    "from Crypto.Util.number import *\n",
    "import codecs\n",
    "import Crypto\n",
    "from Crypto import Random"
   ]
  },
  {
   "cell_type": "code",
   "execution_count": 2,
   "metadata": {},
   "outputs": [],
   "source": [
    "def encryption(plaintext, n):\n",
    "    # c = m^2 mod n\n",
    "    plaintext = padding(plaintext)\n",
    "    return plaintext ** 2 % n\n",
    "\n",
    "\n",
    "def padding(plaintext):\n",
    "    binary_str = bin(plaintext)     \n",
    "    output = binary_str + binary_str[-16:] \n",
    "    \n",
    "    return int(output, 2)       \n",
    "\n",
    "def decryption(a, p, q):\n",
    "    n = p * q\n",
    "    r, s = 0, 0\n",
    "    \n",
    "    if p % 4 == 3:\n",
    "        r = sqrt_p_3_mod_4(a, p)\n",
    "    elif p % 8 == 5:\n",
    "        r = sqrt_p_5_mod_8(a, p)\n",
    "    if q % 4 == 3:\n",
    "        s = sqrt_p_3_mod_4(a, q)\n",
    "    elif q % 8 == 5:\n",
    "        s = sqrt_p_5_mod_8(a, q)\n",
    "\n",
    "    gcd, c, d = egcd(p, q)\n",
    "    x = (r * d * q + s * c * p) % n\n",
    "    y = (r * d * q - s * c * p) % n\n",
    "    lst = [x, n - x, y, n - y]\n",
    "#     print (lst)\n",
    "    plaintext = choose(lst)\n",
    "\n",
    "    string = bin(plaintext)\n",
    "    string = string[:-16]\n",
    "    plaintext = int(string, 2)\n",
    "\n",
    "    return plaintext\n",
    "\n",
    "\n",
    "def choose(lst):\n",
    "\n",
    "    for i in lst:\n",
    "        binary = bin(i)\n",
    "\n",
    "        append = binary[-16:]   \n",
    "        binary = binary[:-16]   \n",
    "\n",
    "        if append == binary[-16:]:\n",
    "            return i\n",
    "    return\n",
    "\n",
    "\n",
    "def sqrt_p_3_mod_4(a, p):\n",
    "    r = pow(a, (p + 1) // 4, p)\n",
    "    return r\n",
    "\n",
    "\n",
    "\n",
    "def sqrt_p_5_mod_8(a, p):\n",
    "    d = pow(a, (p - 1) // 4, p)\n",
    "    r =0\n",
    "    if d == 1:\n",
    "        r = pow(a, (p + 3) // 8, p)\n",
    "    elif d == p - 1:\n",
    "        r = 2 * a * pow(4 * a, (p - 5) // 8, p) % p\n",
    "\n",
    "    return r\n",
    "\n",
    "def egcd(a, b):\n",
    "    if a == 0:\n",
    "        return b, 0, 1\n",
    "    else:\n",
    "        gcd, y, x = egcd(b % a, a)\n",
    "        return gcd, x - (b // a) * y, y"
   ]
  },
  {
   "cell_type": "code",
   "execution_count": 3,
   "metadata": {},
   "outputs": [
    {
     "name": "stdout",
     "output_type": "stream",
     "text": [
      "Enter Message : hello\n"
     ]
    },
    {
     "data": {
      "text/plain": [
       "'hello'"
      ]
     },
     "execution_count": 3,
     "metadata": {},
     "output_type": "execute_result"
    }
   ],
   "source": [
    "msg = input(\"Enter Message : \")\n",
    "msg"
   ]
  },
  {
   "cell_type": "code",
   "execution_count": 4,
   "metadata": {},
   "outputs": [
    {
     "name": "stdout",
     "output_type": "stream",
     "text": [
      "Message=hello\n",
      "\n",
      " Private key\n",
      "p=648053653887003451, q=960593439192857023\n",
      "\n",
      "Public key\n",
      "n=622516088168814060833877852950586373\n",
      "\n",
      "\n",
      "Plaintext :  448378203247\n",
      "\n",
      "Ciphertext :  863473166557328969468694791968801\n"
     ]
    }
   ],
   "source": [
    "bits=60\n",
    "while True:\n",
    "        p = Crypto.Util.number.getPrime(bits, randfunc=Crypto.Random.get_random_bytes)\n",
    "        if ((p % 4)==3): break\n",
    "\n",
    "while True:\n",
    "        q = Crypto.Util.number.getPrime(bits, randfunc=Crypto.Random.get_random_bytes)\n",
    "        if ((p % 4)==3): break\n",
    "\n",
    "n = p*q\n",
    "\n",
    "print((\"Message=%s\") % msg)\n",
    "print(\"\\n Private key\")\n",
    "print((\"p=%d, q=%d\") % (p,q))\n",
    "\n",
    "print(\"\\nPublic key\")\n",
    "print(\"n=%d\" %  n)\n",
    "\n",
    "plaintext =  bytes_to_long(msg.encode('utf-8'))\n",
    "\n",
    "print(\"\\n\\nPlaintext : \",plaintext)\n",
    "    \n",
    "ciphertext = encryption(plaintext, n)\n",
    "print(\"\\nCiphertext : \",ciphertext)\n"
   ]
  },
  {
   "cell_type": "code",
   "execution_count": 5,
   "metadata": {},
   "outputs": [
    {
     "name": "stdout",
     "output_type": "stream",
     "text": [
      "Enter cipher text : 863473166557328969468694791968801\n",
      "\n",
      " Plaintext :  hello\n"
     ]
    }
   ],
   "source": [
    "cipher = int(input(\"Enter cipher text : \"))\n",
    "plaintext = decryption(cipher, p, q)\n",
    "st=format(plaintext, 'x')\n",
    "print(\"\\n Plaintext : \",bytes.fromhex(st).decode())"
   ]
  },
  {
   "cell_type": "code",
   "execution_count": null,
   "metadata": {},
   "outputs": [],
   "source": []
  }
 ],
 "metadata": {
  "kernelspec": {
   "display_name": "Python 3",
   "language": "python",
   "name": "python3"
  },
  "language_info": {
   "codemirror_mode": {
    "name": "ipython",
    "version": 3
   },
   "file_extension": ".py",
   "mimetype": "text/x-python",
   "name": "python",
   "nbconvert_exporter": "python",
   "pygments_lexer": "ipython3",
   "version": "3.8.5"
  }
 },
 "nbformat": 4,
 "nbformat_minor": 4
}
